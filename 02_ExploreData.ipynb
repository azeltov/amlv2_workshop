{
 "cells": [
  {
   "attachments": {
    "f4895f3c-58df-45d3-bf01-50755615b8c6.png": {
     "image/png": "[encoded data removed]"
    }
   },
   "cell_type": "markdown",
   "metadata": {
    "nteract": {
     "transient": {
      "deleting": false
     }
    }
   },
   "source": [
    "# Tutorial: Upload, access and explore your data in Azure Machine Learning\n",
    "\n",
    "In this tutorial you learn how to:\n",
    "\n",
    "> * Upload your data to cloud storage\n",
    "> * Create an Azure Machine Learning data asset\n",
    "> * Access your data in a notebook for interactive development\n",
    "> * Create new versions of data assets\n",
    "\n",
    "The start of a machine learning project typically involves exploratory data analysis (EDA), data-preprocessing (cleaning, feature engineering), and the building of Machine Learning model prototypes to validate hypotheses. This _prototyping_ project phase is highly interactive. It lends itself to development in an IDE or a Jupyter notebook, with a _Python interactive console_. This tutorial describes these ideas.\n",
    "\n",
    "## Prerequisites\n",
    "\n",
    "* If you opened this notebook from Azure Machine Learning studio, you need a compute instance to run the code. If you don't have a compute instance, select **Create compute** on the toolbar to first create one.  You can use all the default settings.  \n",
    "\n",
    "    ![Create compute](./media/create-compute.png)\n",
    "\n",
    "* If you're seeing this notebook elsewhere, complete [Create resources you need to get started](https://docs.microsoft.com/azure/machine-learning/quickstart-create-resources) to create an Azure Machine Learning workspace and a compute instance.\n",
    "\n",
    "## Set your kernel\n",
    "\n",
    "* If your compute instance is stopped, start it now.  \n",
    "        \n",
    "    ![Start compute](./media/start-compute.png)\n",
    "\n",
    "* Once your compute instance is running, make sure the that the kernel, found on the top right, is 'amldemo_310' (if you followed notebook 00)  .  If not, use the dropdown to select this kernel.\n",
    "\n",
    "    ![image.png](attachment:f4895f3c-58df-45d3-bf01-50755615b8c6.png)\n",
    "\n",
    "or `Python 3.10 - SDK v2` (if you skipped).\n",
    "\n",
    "  ![Set the kernel](./media/set-kernel.png)\n",
    "\n",
    "### Download the data used in this tutorial\n",
    "\n",
    "For data ingestion, the Azure Data Explorer handles raw data in [these formats](https://learn.microsoft.com/azure/data-explorer/ingestion-supported-formats). This tutorial uses this [CSV-format credit card client data sample](https://azuremlexamples.blob.core.windows.net/datasets/credit_card/default_of_credit_card_clients.csv). We see the steps proceed in an Azure Machine Learning resource. In that resource, we'll create a local folder with the suggested name of **data** directly under the folder where this notebook is located.\n",
    "\n",
    "> [!NOTE]\n",
    "> This tutorial depends on data placed in an Azure Machine Learning resource folder location. For this tutorial, 'local' means a folder location in that Azure Machine Learning resource. \n",
    "\n",
    "1. Select **Open terminal** below the three dots, as shown in this image:\n",
    "\n",
    "    ![Open terminal](./media/open-terminal.png)\n",
    "\n",
    "1. The terminal window opens in a new tab. \n",
    "1. Make sure you `cd` to the same folder where this notebook is located.  For example, if the notebook is in a folder named **get-started-notebooks**:\n",
    "\n",
    "    ```\n",
    "    cd get-started-notebooks    #  modify this to the path where your notebook is located\n",
    "    ```\n",
    "\n",
    "1. Enter these commands in the terminal window to copy the data to your compute instance:\n",
    "\n",
    "    ```\n",
    "    mkdir data\n",
    "    cd data                     # the sub-folder where you'll store the data\n",
    "    wget https://azuremlexamples.blob.core.windows.net/datasets/credit_card/default_of_credit_card_clients.csv\n",
    "    ```\n",
    "1. You can now close the terminal window.\n"
   ]
  },
  {
   "cell_type": "markdown",
   "metadata": {
    "nteract": {
     "transient": {
      "deleting": false
     }
    }
   },
   "source": [
    "[Learn more about this data on the UCI Machine Learning Repository.](https://archive.ics.uci.edu/ml/datasets/default+of+credit+card+clients)\n",
    "\n",
    "## Create handle to workspace\n",
    "\n",
    "Before we dive in the code, you need a way to reference your workspace. You'll create `ml_client` for a handle to the workspace.  You'll then use `ml_client` to manage resources and jobs.\n",
    "\n",
    "In the next cell, enter your Subscription ID, Resource Group name and Workspace name. To find these values:\n",
    "\n",
    "1. In the upper right Azure Machine Learning studio toolbar, select your workspace name.\n",
    "1. Copy the value for workspace, resource group and subscription ID into the code.\n",
    "1. You'll need to copy one value, close the area and paste, then come back for the next one."
   ]
  },
  {
   "cell_type": "code",
   "execution_count": 9,
   "metadata": {},
   "outputs": [
    {
     "name": "stdout",
     "output_type": "stream",
     "text": [
      "Collecting azure-ai-ml==1.5.0\n",
      "  Using cached azure_ai_ml-1.5.0-py3-none-any.whl (4.7 MB)\n",
      "Requirement already satisfied: typing-extensions<5.0.0 in /anaconda/envs/amldemo_310/lib/python3.8/site-packages (from azure-ai-ml==1.5.0) (4.5.0)\n",
      "Collecting strictyaml<2.0.0\n",
      "  Using cached strictyaml-1.7.3-py3-none-any.whl (123 kB)\n",
      "Requirement already satisfied: pyjwt<3.0.0 in /anaconda/envs/amldemo_310/lib/python3.8/site-packages (from azure-ai-ml==1.5.0) (2.6.0)\n",
      "Requirement already satisfied: isodate in /anaconda/envs/amldemo_310/lib/python3.8/site-packages (from azure-ai-ml==1.5.0) (0.6.1)\n",
      "Collecting pydash<6.0.0\n",
      "  Using cached pydash-5.1.2-py3-none-any.whl (84 kB)\n",
      "Collecting colorama<0.5.0\n",
      "  Using cached colorama-0.4.6-py2.py3-none-any.whl (25 kB)\n",
      "Collecting azure-storage-file-share<13.0.0\n",
      "  Using cached azure_storage_file_share-12.12.0-py3-none-any.whl (265 kB)\n",
      "Requirement already satisfied: pyyaml<7.0.0,>=5.1.0 in /anaconda/envs/amldemo_310/lib/python3.8/site-packages (from azure-ai-ml==1.5.0) (6.0)\n",
      "Collecting azure-storage-blob<13.0.0,>=12.10.0\n",
      "  Using cached azure_storage_blob-12.16.0-py3-none-any.whl (387 kB)\n",
      "Collecting jsonschema<5.0.0,>=4.0.0\n",
      "  Using cached jsonschema-4.17.3-py3-none-any.whl (90 kB)\n",
      "Collecting tqdm<5.0.0\n",
      "  Using cached tqdm-4.65.0-py3-none-any.whl (77 kB)\n",
      "Requirement already satisfied: azure-common<2.0.0,>=1.1 in /anaconda/envs/amldemo_310/lib/python3.8/site-packages (from azure-ai-ml==1.5.0) (1.1.28)\n",
      "Requirement already satisfied: msrest>=0.6.18 in /anaconda/envs/amldemo_310/lib/python3.8/site-packages (from azure-ai-ml==1.5.0) (0.6.21)\n",
      "Collecting azure-storage-file-datalake<13.0.0\n",
      "  Using cached azure_storage_file_datalake-12.11.0-py3-none-any.whl (247 kB)\n",
      "Requirement already satisfied: azure-mgmt-core<2.0.0,>=1.3.0 in /anaconda/envs/amldemo_310/lib/python3.8/site-packages (from azure-ai-ml==1.5.0) (1.3.0)\n",
      "Collecting opencensus-ext-azure<2.0.0\n",
      "  Using cached opencensus_ext_azure-1.1.9-py2.py3-none-any.whl (43 kB)\n",
      "Collecting azure-core<2.0.0,>=1.23.0\n",
      "  Using cached azure_core-1.26.4-py3-none-any.whl (173 kB)\n",
      "Collecting marshmallow<4.0.0,>=3.5\n",
      "  Using cached marshmallow-3.19.0-py3-none-any.whl (49 kB)\n",
      "Requirement already satisfied: requests>=2.18.4 in /anaconda/envs/amldemo_310/lib/python3.8/site-packages (from azure-core<2.0.0,>=1.23.0->azure-ai-ml==1.5.0) (2.28.2)\n",
      "Requirement already satisfied: six>=1.11.0 in /anaconda/envs/amldemo_310/lib/python3.8/site-packages (from azure-core<2.0.0,>=1.23.0->azure-ai-ml==1.5.0) (1.16.0)\n",
      "Requirement already satisfied: cryptography>=2.1.4 in /anaconda/envs/amldemo_310/lib/python3.8/site-packages (from azure-storage-blob<13.0.0,>=12.10.0->azure-ai-ml==1.5.0) (36.0.2)\n",
      "Requirement already satisfied: cffi>=1.12 in /anaconda/envs/amldemo_310/lib/python3.8/site-packages (from cryptography>=2.1.4->azure-storage-blob<13.0.0,>=12.10.0->azure-ai-ml==1.5.0) (1.15.1)\n",
      "Requirement already satisfied: pycparser in /anaconda/envs/amldemo_310/lib/python3.8/site-packages (from cffi>=1.12->cryptography>=2.1.4->azure-storage-blob<13.0.0,>=12.10.0->azure-ai-ml==1.5.0) (2.21)\n",
      "Collecting pyrsistent!=0.17.0,!=0.17.1,!=0.17.2,>=0.14.0\n",
      "  Downloading pyrsistent-0.19.3-py3-none-any.whl (57 kB)\n",
      "\u001b[K     |████████████████████████████████| 57 kB 5.8 MB/s  eta 0:00:01\n",
      "\u001b[?25hRequirement already satisfied: importlib-resources>=1.4.0 in /anaconda/envs/amldemo_310/lib/python3.8/site-packages (from jsonschema<5.0.0,>=4.0.0->azure-ai-ml==1.5.0) (5.12.0)\n",
      "Collecting attrs>=17.4.0\n",
      "  Downloading attrs-23.1.0-py3-none-any.whl (61 kB)\n",
      "\u001b[K     |████████████████████████████████| 61 kB 11.6 MB/s eta 0:00:01\n",
      "\u001b[?25hCollecting pkgutil-resolve-name>=1.3.10\n",
      "  Downloading pkgutil_resolve_name-1.3.10-py3-none-any.whl (4.7 kB)\n",
      "Requirement already satisfied: zipp>=3.1.0 in /anaconda/envs/amldemo_310/lib/python3.8/site-packages (from importlib-resources>=1.4.0->jsonschema<5.0.0,>=4.0.0->azure-ai-ml==1.5.0) (3.15.0)\n",
      "Requirement already satisfied: packaging>=17.0 in /anaconda/envs/amldemo_310/lib/python3.8/site-packages (from marshmallow<4.0.0,>=3.5->azure-ai-ml==1.5.0) (21.3)\n",
      "Requirement already satisfied: certifi>=2017.4.17 in /anaconda/envs/amldemo_310/lib/python3.8/site-packages (from msrest>=0.6.18->azure-ai-ml==1.5.0) (2022.12.7)\n",
      "Requirement already satisfied: requests-oauthlib>=0.5.0 in /anaconda/envs/amldemo_310/lib/python3.8/site-packages (from msrest>=0.6.18->azure-ai-ml==1.5.0) (1.3.1)\n",
      "Requirement already satisfied: psutil>=5.6.3 in /anaconda/envs/amldemo_310/lib/python3.8/site-packages (from opencensus-ext-azure<2.0.0->azure-ai-ml==1.5.0) (5.8.0)\n",
      "Collecting opencensus<1.0.0,>=0.11.2\n",
      "  Downloading opencensus-0.11.2-py2.py3-none-any.whl (128 kB)\n",
      "\u001b[K     |████████████████████████████████| 128 kB 107.2 MB/s eta 0:00:01\n",
      "\u001b[?25hCollecting azure-identity<2.0.0,>=1.5.0\n",
      "  Downloading azure_identity-1.12.0-py3-none-any.whl (135 kB)\n",
      "\u001b[K     |████████████████████████████████| 135 kB 96.2 MB/s eta 0:00:01\n",
      "\u001b[?25hRequirement already satisfied: msal-extensions<2.0.0,>=0.3.0 in /anaconda/envs/amldemo_310/lib/python3.8/site-packages (from azure-identity<2.0.0,>=1.5.0->opencensus-ext-azure<2.0.0->azure-ai-ml==1.5.0) (1.0.0)\n",
      "Requirement already satisfied: msal<2.0.0,>=1.12.0 in /anaconda/envs/amldemo_310/lib/python3.8/site-packages (from azure-identity<2.0.0,>=1.5.0->opencensus-ext-azure<2.0.0->azure-ai-ml==1.5.0) (1.22.0)\n",
      "Requirement already satisfied: portalocker<3,>=1.0 in /anaconda/envs/amldemo_310/lib/python3.8/site-packages (from msal-extensions<2.0.0,>=0.3.0->azure-identity<2.0.0,>=1.5.0->opencensus-ext-azure<2.0.0->azure-ai-ml==1.5.0) (2.7.0)\n",
      "Collecting opencensus-context>=0.1.3\n",
      "  Downloading opencensus_context-0.1.3-py2.py3-none-any.whl (5.1 kB)\n",
      "Collecting google-api-core<3.0.0,>=1.0.0\n",
      "  Downloading google_api_core-2.11.0-py3-none-any.whl (120 kB)\n",
      "\u001b[K     |████████████████████████████████| 120 kB 91.9 MB/s eta 0:00:01\n",
      "\u001b[?25hRequirement already satisfied: protobuf!=3.20.0,!=3.20.1,!=4.21.0,!=4.21.1,!=4.21.2,!=4.21.3,!=4.21.4,!=4.21.5,<5.0.0dev,>=3.19.5 in /anaconda/envs/amldemo_310/lib/python3.8/site-packages (from google-api-core<3.0.0,>=1.0.0->opencensus<1.0.0,>=0.11.2->opencensus-ext-azure<2.0.0->azure-ai-ml==1.5.0) (4.22.3)\n",
      "Collecting googleapis-common-protos<2.0dev,>=1.56.2\n",
      "  Downloading googleapis_common_protos-1.59.0-py2.py3-none-any.whl (223 kB)\n",
      "\u001b[K     |████████████████████████████████| 223 kB 101.7 MB/s eta 0:00:01\n",
      "\u001b[?25hCollecting google-auth<3.0dev,>=2.14.1\n",
      "  Downloading google_auth-2.17.3-py2.py3-none-any.whl (178 kB)\n",
      "\u001b[K     |████████████████████████████████| 178 kB 100.1 MB/s eta 0:00:01\n",
      "\u001b[?25hCollecting rsa<5,>=3.1.4\n",
      "  Downloading rsa-4.9-py3-none-any.whl (34 kB)\n",
      "Collecting cachetools<6.0,>=2.0.0\n",
      "  Downloading cachetools-5.3.0-py3-none-any.whl (9.3 kB)\n",
      "Collecting pyasn1-modules>=0.2.1\n",
      "  Downloading pyasn1_modules-0.3.0-py2.py3-none-any.whl (181 kB)\n",
      "\u001b[K     |████████████████████████████████| 181 kB 102.5 MB/s eta 0:00:01\n",
      "\u001b[?25hRequirement already satisfied: pyparsing!=3.0.5,>=2.0.2 in /anaconda/envs/amldemo_310/lib/python3.8/site-packages (from packaging>=17.0->marshmallow<4.0.0,>=3.5->azure-ai-ml==1.5.0) (3.0.9)\n",
      "Requirement already satisfied: pyasn1<0.6.0,>=0.4.6 in /anaconda/envs/amldemo_310/lib/python3.8/site-packages (from pyasn1-modules>=0.2.1->google-auth<3.0dev,>=2.14.1->google-api-core<3.0.0,>=1.0.0->opencensus<1.0.0,>=0.11.2->opencensus-ext-azure<2.0.0->azure-ai-ml==1.5.0) (0.5.0)\n",
      "Requirement already satisfied: charset-normalizer<4,>=2 in /anaconda/envs/amldemo_310/lib/python3.8/site-packages (from requests>=2.18.4->azure-core<2.0.0,>=1.23.0->azure-ai-ml==1.5.0) (3.1.0)\n",
      "Requirement already satisfied: idna<4,>=2.5 in /anaconda/envs/amldemo_310/lib/python3.8/site-packages (from requests>=2.18.4->azure-core<2.0.0,>=1.23.0->azure-ai-ml==1.5.0) (3.4)\n",
      "Requirement already satisfied: urllib3<1.27,>=1.21.1 in /anaconda/envs/amldemo_310/lib/python3.8/site-packages (from requests>=2.18.4->azure-core<2.0.0,>=1.23.0->azure-ai-ml==1.5.0) (1.26.9)\n",
      "Requirement already satisfied: oauthlib>=3.0.0 in /anaconda/envs/amldemo_310/lib/python3.8/site-packages (from requests-oauthlib>=0.5.0->msrest>=0.6.18->azure-ai-ml==1.5.0) (3.2.2)\n",
      "Requirement already satisfied: python-dateutil>=2.6.0 in /anaconda/envs/amldemo_310/lib/python3.8/site-packages (from strictyaml<2.0.0->azure-ai-ml==1.5.0) (2.8.2)\n",
      "Installing collected packages: rsa, pyasn1-modules, cachetools, googleapis-common-protos, google-auth, opencensus-context, google-api-core, azure-core, pyrsistent, pkgutil-resolve-name, opencensus, azure-storage-blob, azure-identity, attrs, tqdm, strictyaml, pydash, opencensus-ext-azure, marshmallow, jsonschema, colorama, azure-storage-file-share, azure-storage-file-datalake, azure-ai-ml\n",
      "  Attempting uninstall: azure-core\n",
      "    Found existing installation: azure-core 1.22.1\n",
      "    Uninstalling azure-core-1.22.1:\n",
      "      Successfully uninstalled azure-core-1.22.1\n",
      "\u001b[31mERROR: pip's dependency resolver does not currently take into account all the packages that are installed. This behaviour is the source of the following dependency conflicts.\n",
      "azureml-core 1.42.0.post1 requires azure-core<=1.22.1, but you have azure-core 1.26.4 which is incompatible.\u001b[0m\n",
      "Successfully installed attrs-23.1.0 azure-ai-ml-1.5.0 azure-core-1.26.4 azure-identity-1.12.0 azure-storage-blob-12.16.0 azure-storage-file-datalake-12.11.0 azure-storage-file-share-12.12.0 cachetools-5.3.0 colorama-0.4.6 google-api-core-2.11.0 google-auth-2.17.3 googleapis-common-protos-1.59.0 jsonschema-4.17.3 marshmallow-3.19.0 opencensus-0.11.2 opencensus-context-0.1.3 opencensus-ext-azure-1.1.9 pkgutil-resolve-name-1.3.10 pyasn1-modules-0.3.0 pydash-5.1.2 pyrsistent-0.19.3 rsa-4.9 strictyaml-1.7.3 tqdm-4.65.0\n",
      "Note: you may need to restart the kernel to use updated packages.\n"
     ]
    }
   ],
   "source": [
    "%pip install azure-ai-ml==1.5.0"
   ]
  },
  {
   "cell_type": "code",
   "execution_count": 1,
   "metadata": {
    "collapsed": false,
    "gather": {
     "logged": 1675966726847
    },
    "jupyter": {
     "outputs_hidden": false,
     "source_hidden": false
    },
    "nteract": {
     "transient": {
      "deleting": false
     }
    }
   },
   "outputs": [],
   "source": [
    "from azure.ai.ml import MLClient\n",
    "from azure.identity import DefaultAzureCredential\n",
    "from azure.ai.ml.entities import Data\n",
    "from azure.ai.ml.constants import AssetTypes\n",
    "\n",
    "# authenticate\n",
    "credential = DefaultAzureCredential()\n",
    "\n",
    "# Get a handle to the workspace\n",
    "ml_client = MLClient(\n",
    "    credential=credential,\n",
    "    subscription_id=\"f1ea6ed8-82f3-416d-881b-8b376218bc85\",\n",
    "    resource_group_name=\"rg_aml\",\n",
    "    workspace_name=\"aml-default\",\n",
    ")"
   ]
  },
  {
   "cell_type": "markdown",
   "metadata": {},
   "source": [
    "> [!NOTE]\n",
    "> Creating MLClient will not connect to the workspace. The client initialization is lazy, it will wait for the first time it needs to make a call (this will happen in the next code cell)."
   ]
  },
  {
   "cell_type": "markdown",
   "metadata": {
    "nteract": {
     "transient": {
      "deleting": false
     }
    }
   },
   "source": [
    "\n",
    "## Upload data to cloud storage\n",
    "\n",
    "Azure Machine Learning uses Uniform Resource Identifiers (URIs), which point to storage locations in the cloud. A URI makes it easy to access data in notebooks and jobs. Data URI formats look similar to the web URLs that you use in your web browser to access web pages. For example:\n",
    "\n",
    "* Access data from public https server: `https://<account_name>.blob.core.windows.net/<container_name>/<folder>/<file>`\n",
    "* Access data from Azure Data Lake Gen 2: `abfss://<file_system>@<account_name>.dfs.core.windows.net/<folder>/<file>`\n",
    "\n",
    "An Azure Machine Learning data asset is similar to web browser bookmarks (favorites). Instead of remembering long storage paths (URIs) that point to your most frequently used data, you can create a data asset, and then access that asset with a friendly name.\n",
    "\n",
    "Data asset creation also creates a *reference* to the data source location, along with a copy of its metadata. Because the data remains in its existing location, you incur no extra storage cost, and don't risk data source integrity. You can create Data assets from Azure Machine Learning datastores, Azure Storage, public URLs, and local files.\n",
    "\n",
    "> [!TIP]\n",
    "> For smaller-size data uploads, Azure Machine Learning data asset creation works well for data uploads from local machine resources to cloud storage. This approach avoids the need for extra tools or utilities. However, a larger-size data upload might require a dedicated tool or utility - for example, **azcopy**. The azcopy command-line tool moves data to and from Azure Storage. Learn more about [azcopy](https://learn.microsoft.com/en-us/azure/storage/common/storage-use-azcopy-v10).\n",
    "\n",
    "The next notebook cell creates the data asset. The code sample uploads the raw data file to the designated cloud storage resource.  \n",
    "\n",
    "Each time you create a data asset, you need a unique version for it.  If the version already exists, you'll get an error.  In this code, we're using time to generate a unique version each time the cell is run.\n",
    "\n",
    "You can also omit the **version** parameter, and a version number is generated for you, starting with 1 and then incrementing from there. In this tutorial, we want to refer to specific version numbers, so we create a version number instead."
   ]
  },
  {
   "cell_type": "code",
   "execution_count": 2,
   "metadata": {
    "collapsed": false,
    "gather": {
     "logged": 1675461156382
    },
    "jupyter": {
     "outputs_hidden": false,
     "source_hidden": false
    },
    "nteract": {
     "transient": {
      "deleting": false
     }
    }
   },
   "outputs": [
    {
     "name": "stderr",
     "output_type": "stream",
     "text": [
      "\u001b[32mUploading default_of_credit_card_clients.csv\u001b[32m (< 1 MB): 100%|██████████| 2.90M/2.90M [00:00<00:00, 24.6MB/s]\n",
      "\u001b[39m\n",
      "\n"
     ]
    },
    {
     "name": "stdout",
     "output_type": "stream",
     "text": [
      "Data asset created. Name: credit-card, version: 2023.04.24.161942\n"
     ]
    }
   ],
   "source": [
    "from azure.ai.ml.entities import Data\n",
    "from azure.ai.ml.constants import AssetTypes\n",
    "import time\n",
    "\n",
    "# update the 'my_path' variable to match the location of where you downloaded the data on your\n",
    "# local filesystem\n",
    "\n",
    "my_path = \"./data/default_of_credit_card_clients.csv\"\n",
    "# set the version number of the data asset to the current UTC time\n",
    "v1 = time.strftime(\"%Y.%m.%d.%H%M%S\", time.gmtime())\n",
    "\n",
    "\n",
    "my_data = Data(\n",
    "    name=\"credit-card\",\n",
    "    version=v1,\n",
    "    description=\"Credit card data\",\n",
    "    path=my_path,\n",
    "    type=AssetTypes.URI_FILE,\n",
    ")\n",
    "\n",
    "# create data asset\n",
    "ml_client.data.create_or_update(my_data)\n",
    "\n",
    "print(f\"Data asset created. Name: {my_data.name}, version: {my_data.version}\")"
   ]
  },
  {
   "cell_type": "markdown",
   "metadata": {
    "nteract": {
     "transient": {
      "deleting": false
     }
    }
   },
   "source": [
    "You can see the uploaded data by selecting **Data** on the left. You'll see the data is uploaded and a data asset is created:\n",
    "\n",
    "![Image of data section of studio shows uploaded data](./media/access-and-explore-data.png)\n",
    "\n",
    "This data is named **credit-card**, and in the **Data assets** tab, we can see it in the **Name** column. This data uploaded to your workspace's default datastore named **workspaceblobstore**, seen in the **Data source** column. \n",
    "\n",
    "An Azure Machine Learning datastore is a *reference* to an *existing* storage account on Azure. A datastore offers these benefits:\n",
    "\n",
    "1. A common and easy-to-use API, to interact with different storage types (Blob/Files/Azure Data Lake Storage) and authentication methods.\n",
    "1. An easier way to discover useful datastores, when working as a team.\n",
    "1. In your scripts, a way to hide connection information for credential-based data access (service principal/SAS/key).\n",
    "\n",
    "\n",
    "## Access your data in a notebook\n",
    "\n",
    "Pandas directly support URIs - this example shows how to read a CSV file from an Azure Machine Learning Datastore:\n",
    "\n",
    "```\n",
    "import pandas as pd\n",
    "\n",
    "df = pd.read_csv(\"azureml://subscriptions/<subid>/resourcegroups/<rgname>/workspaces/<workspace_name>/datastores/<datastore_name>/paths/<folder>/<filename>.csv\")\n",
    "```"
   ]
  },
  {
   "cell_type": "markdown",
   "metadata": {
    "nteract": {
     "transient": {
      "deleting": false
     }
    }
   },
   "source": [
    "However, as mentioned previously, it can become hard to remember these URIs. Additionally, you must manually substitute all **<_substring_>** values in the **pd.read_csv** command with the real values for your resources. \n",
    "\n",
    "You'll want to create data assets for frequently accessed data. Here's an easier way to access the CSV file in Pandas:\n",
    "\n",
    "> [!IMPORTANT]\n",
    "> In a notebook cell, execute this code to install the `azureml-fsspec` Python library in your Jupyter kernel:"
   ]
  },
  {
   "cell_type": "code",
   "execution_count": 3,
   "metadata": {
    "collapsed": false,
    "jupyter": {
     "outputs_hidden": false,
     "source_hidden": false
    },
    "nteract": {
     "transient": {
      "deleting": false
     }
    }
   },
   "outputs": [
    {
     "name": "stdout",
     "output_type": "stream",
     "text": [
      "Collecting azureml-fsspec\n",
      "  Downloading azureml_fsspec-1.0.0-py3-none-any.whl (11 kB)\n",
      "Collecting azureml-dataprep<4.11.0a,>=4.10.0a\n",
      "  Downloading azureml_dataprep-4.10.7-py3-none-any.whl (38.2 MB)\n",
      "\u001b[K     |████████████████████████████████| 38.2 MB 26.0 MB/s eta 0:00:01\n",
      "\u001b[?25hRequirement already satisfied: azureml-core in /anaconda/envs/amldemo_310/lib/python3.8/site-packages (from azureml-fsspec) (1.42.0.post1)\n",
      "Collecting fsspec>=2021.6.1\n",
      "  Downloading fsspec-2023.4.0-py3-none-any.whl (153 kB)\n",
      "\u001b[K     |████████████████████████████████| 153 kB 107.6 MB/s eta 0:00:01\n",
      "\u001b[?25hCollecting azureml-dataprep-rslex~=2.17.6dev0\n",
      "  Downloading azureml_dataprep_rslex-2.17.6-cp38-cp38-manylinux_2_17_x86_64.manylinux2014_x86_64.whl (20.2 MB)\n",
      "\u001b[K     |████████████████████████████████| 20.2 MB 101.4 MB/s eta 0:00:01\n",
      "\u001b[?25hRequirement already satisfied: pyyaml<7.0.0,>=5.1.0 in /anaconda/envs/amldemo_310/lib/python3.8/site-packages (from azureml-dataprep<4.11.0a,>=4.10.0a->azureml-fsspec) (6.0)\n",
      "Collecting dotnetcore2<4.0.0,>=3.0.0\n",
      "  Downloading dotnetcore2-3.1.23-py3-none-manylinux1_x86_64.whl (31.1 MB)\n",
      "\u001b[K     |████████████████████████████████| 31.1 MB 105.9 MB/s eta 0:00:01\n",
      "\u001b[?25hCollecting azureml-dataprep-native<39.0.0,>=38.0.0\n",
      "  Downloading azureml_dataprep_native-38.0.0-cp38-cp38-manylinux1_x86_64.whl (1.4 MB)\n",
      "\u001b[K     |████████████████████████████████| 1.4 MB 100.9 MB/s eta 0:00:01\n",
      "\u001b[?25hRequirement already satisfied: cloudpickle<3.0.0,>=1.1.0 in /anaconda/envs/amldemo_310/lib/python3.8/site-packages (from azureml-dataprep<4.11.0a,>=4.10.0a->azureml-fsspec) (2.2.1)\n",
      "Requirement already satisfied: azure-identity>=1.7.0 in /anaconda/envs/amldemo_310/lib/python3.8/site-packages (from azureml-dataprep<4.11.0a,>=4.10.0a->azureml-fsspec) (1.12.0)\n",
      "Requirement already satisfied: jsonschema in /anaconda/envs/amldemo_310/lib/python3.8/site-packages (from azureml-dataprep<4.11.0a,>=4.10.0a->azureml-fsspec) (4.17.3)\n",
      "Requirement already satisfied: cryptography>=2.5 in /anaconda/envs/amldemo_310/lib/python3.8/site-packages (from azure-identity>=1.7.0->azureml-dataprep<4.11.0a,>=4.10.0a->azureml-fsspec) (36.0.2)\n",
      "Requirement already satisfied: six>=1.12.0 in /anaconda/envs/amldemo_310/lib/python3.8/site-packages (from azure-identity>=1.7.0->azureml-dataprep<4.11.0a,>=4.10.0a->azureml-fsspec) (1.16.0)\n",
      "Requirement already satisfied: msal-extensions<2.0.0,>=0.3.0 in /anaconda/envs/amldemo_310/lib/python3.8/site-packages (from azure-identity>=1.7.0->azureml-dataprep<4.11.0a,>=4.10.0a->azureml-fsspec) (1.0.0)\n",
      "Requirement already satisfied: msal<2.0.0,>=1.12.0 in /anaconda/envs/amldemo_310/lib/python3.8/site-packages (from azure-identity>=1.7.0->azureml-dataprep<4.11.0a,>=4.10.0a->azureml-fsspec) (1.22.0)\n",
      "Requirement already satisfied: azure-core<2.0.0,>=1.11.0 in /anaconda/envs/amldemo_310/lib/python3.8/site-packages (from azure-identity>=1.7.0->azureml-dataprep<4.11.0a,>=4.10.0a->azureml-fsspec) (1.26.4)\n",
      "Requirement already satisfied: typing-extensions>=4.3.0 in /anaconda/envs/amldemo_310/lib/python3.8/site-packages (from azure-core<2.0.0,>=1.11.0->azure-identity>=1.7.0->azureml-dataprep<4.11.0a,>=4.10.0a->azureml-fsspec) (4.5.0)\n",
      "Requirement already satisfied: requests>=2.18.4 in /anaconda/envs/amldemo_310/lib/python3.8/site-packages (from azure-core<2.0.0,>=1.11.0->azure-identity>=1.7.0->azureml-dataprep<4.11.0a,>=4.10.0a->azureml-fsspec) (2.28.2)\n",
      "Requirement already satisfied: cffi>=1.12 in /anaconda/envs/amldemo_310/lib/python3.8/site-packages (from cryptography>=2.5->azure-identity>=1.7.0->azureml-dataprep<4.11.0a,>=4.10.0a->azureml-fsspec) (1.15.1)\n",
      "Requirement already satisfied: pycparser in /anaconda/envs/amldemo_310/lib/python3.8/site-packages (from cffi>=1.12->cryptography>=2.5->azure-identity>=1.7.0->azureml-dataprep<4.11.0a,>=4.10.0a->azureml-fsspec) (2.21)\n",
      "Collecting distro>=1.2.0\n",
      "  Downloading distro-1.8.0-py3-none-any.whl (20 kB)\n",
      "Requirement already satisfied: PyJWT[crypto]<3,>=1.0.0 in /anaconda/envs/amldemo_310/lib/python3.8/site-packages (from msal<2.0.0,>=1.12.0->azure-identity>=1.7.0->azureml-dataprep<4.11.0a,>=4.10.0a->azureml-fsspec) (2.6.0)\n",
      "Requirement already satisfied: portalocker<3,>=1.0 in /anaconda/envs/amldemo_310/lib/python3.8/site-packages (from msal-extensions<2.0.0,>=0.3.0->azure-identity>=1.7.0->azureml-dataprep<4.11.0a,>=4.10.0a->azureml-fsspec) (2.7.0)\n",
      "Requirement already satisfied: urllib3<1.27,>=1.21.1 in /anaconda/envs/amldemo_310/lib/python3.8/site-packages (from requests>=2.18.4->azure-core<2.0.0,>=1.11.0->azure-identity>=1.7.0->azureml-dataprep<4.11.0a,>=4.10.0a->azureml-fsspec) (1.26.9)\n",
      "Requirement already satisfied: idna<4,>=2.5 in /anaconda/envs/amldemo_310/lib/python3.8/site-packages (from requests>=2.18.4->azure-core<2.0.0,>=1.11.0->azure-identity>=1.7.0->azureml-dataprep<4.11.0a,>=4.10.0a->azureml-fsspec) (3.4)\n",
      "Requirement already satisfied: certifi>=2017.4.17 in /anaconda/envs/amldemo_310/lib/python3.8/site-packages (from requests>=2.18.4->azure-core<2.0.0,>=1.11.0->azure-identity>=1.7.0->azureml-dataprep<4.11.0a,>=4.10.0a->azureml-fsspec) (2022.12.7)\n",
      "Requirement already satisfied: charset-normalizer<4,>=2 in /anaconda/envs/amldemo_310/lib/python3.8/site-packages (from requests>=2.18.4->azure-core<2.0.0,>=1.11.0->azure-identity>=1.7.0->azureml-dataprep<4.11.0a,>=4.10.0a->azureml-fsspec) (3.1.0)\n",
      "Requirement already satisfied: packaging<22.0,>=20.0 in /anaconda/envs/amldemo_310/lib/python3.8/site-packages (from azureml-core->azureml-fsspec) (21.3)\n",
      "Requirement already satisfied: pkginfo in /anaconda/envs/amldemo_310/lib/python3.8/site-packages (from azureml-core->azureml-fsspec) (1.9.6)\n",
      "Collecting azure-core<2.0.0,>=1.11.0\n",
      "  Using cached azure_core-1.22.1-py3-none-any.whl (178 kB)\n",
      "Requirement already satisfied: pathspec<1.0.0 in /anaconda/envs/amldemo_310/lib/python3.8/site-packages (from azureml-core->azureml-fsspec) (0.11.1)\n",
      "Requirement already satisfied: jsonpickle<3.0.0 in /anaconda/envs/amldemo_310/lib/python3.8/site-packages (from azureml-core->azureml-fsspec) (2.2.0)\n",
      "Requirement already satisfied: knack~=0.9.0 in /anaconda/envs/amldemo_310/lib/python3.8/site-packages (from azureml-core->azureml-fsspec) (0.9.0)\n",
      "Requirement already satisfied: python-dateutil<3.0.0,>=2.7.3 in /anaconda/envs/amldemo_310/lib/python3.8/site-packages (from azureml-core->azureml-fsspec) (2.8.2)\n",
      "Requirement already satisfied: SecretStorage<4.0.0 in /anaconda/envs/amldemo_310/lib/python3.8/site-packages (from azureml-core->azureml-fsspec) (3.3.3)\n",
      "Requirement already satisfied: msrest<0.7.0,>=0.5.1 in /anaconda/envs/amldemo_310/lib/python3.8/site-packages (from azureml-core->azureml-fsspec) (0.6.21)\n",
      "Requirement already satisfied: contextlib2<22.0.0 in /anaconda/envs/amldemo_310/lib/python3.8/site-packages (from azureml-core->azureml-fsspec) (21.6.0)\n",
      "Requirement already satisfied: humanfriendly<11.0,>=4.7 in /anaconda/envs/amldemo_310/lib/python3.8/site-packages (from azureml-core->azureml-fsspec) (10.0)\n",
      "Requirement already satisfied: backports.tempfile in /anaconda/envs/amldemo_310/lib/python3.8/site-packages (from azureml-core->azureml-fsspec) (1.0)\n",
      "Requirement already satisfied: azure-common<2.0.0,>=1.1.12 in /anaconda/envs/amldemo_310/lib/python3.8/site-packages (from azureml-core->azureml-fsspec) (1.1.28)\n",
      "Requirement already satisfied: azure-mgmt-keyvault<10.0.0,>=0.40.0 in /anaconda/envs/amldemo_310/lib/python3.8/site-packages (from azureml-core->azureml-fsspec) (9.3.0)\n",
      "Requirement already satisfied: argcomplete<3 in /anaconda/envs/amldemo_310/lib/python3.8/site-packages (from azureml-core->azureml-fsspec) (2.1.2)\n",
      "Requirement already satisfied: azure-mgmt-resource<=21.0.0,>=15.0.0 in /anaconda/envs/amldemo_310/lib/python3.8/site-packages (from azureml-core->azureml-fsspec) (21.0.0)\n",
      "Requirement already satisfied: pyopenssl<23.0.0 in /anaconda/envs/amldemo_310/lib/python3.8/site-packages (from azureml-core->azureml-fsspec) (22.0.0)\n",
      "Requirement already satisfied: docker<6.0.0 in /anaconda/envs/amldemo_310/lib/python3.8/site-packages (from azureml-core->azureml-fsspec) (5.0.3)\n",
      "Requirement already satisfied: azure-mgmt-authorization<3,>=0.40.0 in /anaconda/envs/amldemo_310/lib/python3.8/site-packages (from azureml-core->azureml-fsspec) (2.0.0)\n",
      "Requirement already satisfied: azure-mgmt-storage<=20.0.0,>=16.0.0 in /anaconda/envs/amldemo_310/lib/python3.8/site-packages (from azureml-core->azureml-fsspec) (20.0.0)\n",
      "Requirement already satisfied: jmespath<=1.0.0 in /anaconda/envs/amldemo_310/lib/python3.8/site-packages (from azureml-core->azureml-fsspec) (1.0.0)\n",
      "Requirement already satisfied: azure-mgmt-containerregistry<10,>=8.2.0 in /anaconda/envs/amldemo_310/lib/python3.8/site-packages (from azureml-core->azureml-fsspec) (9.1.0)\n",
      "Requirement already satisfied: azure-graphrbac<1.0.0,>=0.40.0 in /anaconda/envs/amldemo_310/lib/python3.8/site-packages (from azureml-core->azureml-fsspec) (0.61.1)\n",
      "Requirement already satisfied: ndg-httpsclient<=0.5.1 in /anaconda/envs/amldemo_310/lib/python3.8/site-packages (from azureml-core->azureml-fsspec) (0.5.1)\n",
      "Requirement already satisfied: pytz in /anaconda/envs/amldemo_310/lib/python3.8/site-packages (from azureml-core->azureml-fsspec) (2022.7)\n",
      "Requirement already satisfied: msrestazure<=0.6.4,>=0.4.33 in /anaconda/envs/amldemo_310/lib/python3.8/site-packages (from azureml-core->azureml-fsspec) (0.6.4)\n",
      "Requirement already satisfied: adal<=1.2.7,>=1.2.0 in /anaconda/envs/amldemo_310/lib/python3.8/site-packages (from azureml-core->azureml-fsspec) (1.2.7)\n",
      "Requirement already satisfied: paramiko<3.0.0,>=2.0.8 in /anaconda/envs/amldemo_310/lib/python3.8/site-packages (from azureml-core->azureml-fsspec) (2.12.0)\n",
      "Requirement already satisfied: azure-mgmt-core<2.0.0,>=1.2.0 in /anaconda/envs/amldemo_310/lib/python3.8/site-packages (from azure-mgmt-authorization<3,>=0.40.0->azureml-core->azureml-fsspec) (1.3.0)\n",
      "Requirement already satisfied: websocket-client>=0.32.0 in /anaconda/envs/amldemo_310/lib/python3.8/site-packages (from docker<6.0.0->azureml-core->azureml-fsspec) (1.5.1)\n",
      "Requirement already satisfied: pygments in /anaconda/envs/amldemo_310/lib/python3.8/site-packages (from knack~=0.9.0->azureml-core->azureml-fsspec) (2.15.1)\n",
      "Requirement already satisfied: tabulate in /anaconda/envs/amldemo_310/lib/python3.8/site-packages (from knack~=0.9.0->azureml-core->azureml-fsspec) (0.9.0)\n",
      "Requirement already satisfied: isodate>=0.6.0 in /anaconda/envs/amldemo_310/lib/python3.8/site-packages (from msrest<0.7.0,>=0.5.1->azureml-core->azureml-fsspec) (0.6.1)\n",
      "Requirement already satisfied: requests-oauthlib>=0.5.0 in /anaconda/envs/amldemo_310/lib/python3.8/site-packages (from msrest<0.7.0,>=0.5.1->azureml-core->azureml-fsspec) (1.3.1)\n",
      "Requirement already satisfied: pyasn1>=0.1.1 in /anaconda/envs/amldemo_310/lib/python3.8/site-packages (from ndg-httpsclient<=0.5.1->azureml-core->azureml-fsspec) (0.5.0)\n",
      "Requirement already satisfied: pyparsing!=3.0.5,>=2.0.2 in /anaconda/envs/amldemo_310/lib/python3.8/site-packages (from packaging<22.0,>=20.0->azureml-core->azureml-fsspec) (3.0.9)\n",
      "Requirement already satisfied: bcrypt>=3.1.3 in /anaconda/envs/amldemo_310/lib/python3.8/site-packages (from paramiko<3.0.0,>=2.0.8->azureml-core->azureml-fsspec) (4.0.1)\n",
      "Requirement already satisfied: pynacl>=1.0.1 in /anaconda/envs/amldemo_310/lib/python3.8/site-packages (from paramiko<3.0.0,>=2.0.8->azureml-core->azureml-fsspec) (1.5.0)\n",
      "Requirement already satisfied: oauthlib>=3.0.0 in /anaconda/envs/amldemo_310/lib/python3.8/site-packages (from requests-oauthlib>=0.5.0->msrest<0.7.0,>=0.5.1->azureml-core->azureml-fsspec) (3.2.2)\n",
      "Requirement already satisfied: PySocks!=1.5.7,>=1.5.6 in /anaconda/envs/amldemo_310/lib/python3.8/site-packages (from requests>=2.18.4->azure-core<2.0.0,>=1.11.0->azure-identity>=1.7.0->azureml-dataprep<4.11.0a,>=4.10.0a->azureml-fsspec) (1.7.1)\n",
      "Requirement already satisfied: jeepney>=0.6 in /anaconda/envs/amldemo_310/lib/python3.8/site-packages (from SecretStorage<4.0.0->azureml-core->azureml-fsspec) (0.8.0)\n",
      "Requirement already satisfied: backports.weakref in /anaconda/envs/amldemo_310/lib/python3.8/site-packages (from backports.tempfile->azureml-core->azureml-fsspec) (1.0.post1)\n",
      "Requirement already satisfied: pyrsistent!=0.17.0,!=0.17.1,!=0.17.2,>=0.14.0 in /anaconda/envs/amldemo_310/lib/python3.8/site-packages (from jsonschema->azureml-dataprep<4.11.0a,>=4.10.0a->azureml-fsspec) (0.19.3)\n",
      "Requirement already satisfied: attrs>=17.4.0 in /anaconda/envs/amldemo_310/lib/python3.8/site-packages (from jsonschema->azureml-dataprep<4.11.0a,>=4.10.0a->azureml-fsspec) (23.1.0)\n",
      "Requirement already satisfied: importlib-resources>=1.4.0 in /anaconda/envs/amldemo_310/lib/python3.8/site-packages (from jsonschema->azureml-dataprep<4.11.0a,>=4.10.0a->azureml-fsspec) (5.12.0)\n",
      "Requirement already satisfied: pkgutil-resolve-name>=1.3.10 in /anaconda/envs/amldemo_310/lib/python3.8/site-packages (from jsonschema->azureml-dataprep<4.11.0a,>=4.10.0a->azureml-fsspec) (1.3.10)\n",
      "Requirement already satisfied: zipp>=3.1.0 in /anaconda/envs/amldemo_310/lib/python3.8/site-packages (from importlib-resources>=1.4.0->jsonschema->azureml-dataprep<4.11.0a,>=4.10.0a->azureml-fsspec) (3.15.0)\n",
      "Installing collected packages: azure-core, distro, dotnetcore2, azureml-dataprep-rslex, azureml-dataprep-native, fsspec, azureml-dataprep, azureml-fsspec\n",
      "  Attempting uninstall: azure-core\n",
      "    Found existing installation: azure-core 1.26.4\n",
      "    Uninstalling azure-core-1.26.4:\n",
      "      Successfully uninstalled azure-core-1.26.4\n",
      "\u001b[31mERROR: pip's dependency resolver does not currently take into account all the packages that are installed. This behaviour is the source of the following dependency conflicts.\n",
      "azure-storage-file-share 12.12.0 requires azure-core<2.0.0,>=1.26.0, but you have azure-core 1.22.1 which is incompatible.\n",
      "azure-storage-file-datalake 12.11.0 requires azure-core<2.0.0,>=1.26.0, but you have azure-core 1.22.1 which is incompatible.\n",
      "azure-storage-blob 12.16.0 requires azure-core<2.0.0,>=1.26.0, but you have azure-core 1.22.1 which is incompatible.\n",
      "azure-ai-ml 1.5.0 requires azure-core<2.0.0,>=1.23.0, but you have azure-core 1.22.1 which is incompatible.\u001b[0m\n",
      "Successfully installed azure-core-1.22.1 azureml-dataprep-4.10.7 azureml-dataprep-native-38.0.0 azureml-dataprep-rslex-2.17.6 azureml-fsspec-1.0.0 distro-1.8.0 dotnetcore2-3.1.23 fsspec-2023.4.0\n",
      "Note: you may need to restart the kernel to use updated packages.\n"
     ]
    }
   ],
   "source": [
    "%pip install -U azureml-fsspec"
   ]
  },
  {
   "cell_type": "code",
   "execution_count": 4,
   "metadata": {
    "collapsed": false,
    "gather": {
     "logged": 1675445030495
    },
    "jupyter": {
     "outputs_hidden": false,
     "source_hidden": false
    },
    "nteract": {
     "transient": {
      "deleting": false
     }
    }
   },
   "outputs": [
    {
     "name": "stdout",
     "output_type": "stream",
     "text": [
      "Data asset URI: azureml://subscriptions/f1ea6ed8-82f3-416d-881b-8b376218bc85/resourcegroups/rg_aml/workspaces/aml-default/datastores/workspaceblobstore/paths/LocalUpload/4b1dfc4d12429b46389cabdf25b886a2/default_of_credit_card_clients.csv\n"
     ]
    },
    {
     "data": {
      "text/html": [
       "<div>\n",
       "<style scoped>\n",
       "    .dataframe tbody tr th:only-of-type {\n",
       "        vertical-align: middle;\n",
       "    }\n",
       "\n",
       "    .dataframe tbody tr th {\n",
       "        vertical-align: top;\n",
       "    }\n",
       "\n",
       "    .dataframe thead th {\n",
       "        text-align: right;\n",
       "    }\n",
       "</style>\n",
       "<table border=\"1\" class=\"dataframe\">\n",
       "  <thead>\n",
       "    <tr style=\"text-align: right;\">\n",
       "      <th></th>\n",
       "      <th>Unnamed: 0</th>\n",
       "      <th>X1</th>\n",
       "      <th>X2</th>\n",
       "      <th>X3</th>\n",
       "      <th>X4</th>\n",
       "      <th>X5</th>\n",
       "      <th>X6</th>\n",
       "      <th>X7</th>\n",
       "      <th>X8</th>\n",
       "      <th>X9</th>\n",
       "      <th>...</th>\n",
       "      <th>X15</th>\n",
       "      <th>X16</th>\n",
       "      <th>X17</th>\n",
       "      <th>X18</th>\n",
       "      <th>X19</th>\n",
       "      <th>X20</th>\n",
       "      <th>X21</th>\n",
       "      <th>X22</th>\n",
       "      <th>X23</th>\n",
       "      <th>Y</th>\n",
       "    </tr>\n",
       "  </thead>\n",
       "  <tbody>\n",
       "    <tr>\n",
       "      <th>0</th>\n",
       "      <td>ID</td>\n",
       "      <td>LIMIT_BAL</td>\n",
       "      <td>SEX</td>\n",
       "      <td>EDUCATION</td>\n",
       "      <td>MARRIAGE</td>\n",
       "      <td>AGE</td>\n",
       "      <td>PAY_0</td>\n",
       "      <td>PAY_2</td>\n",
       "      <td>PAY_3</td>\n",
       "      <td>PAY_4</td>\n",
       "      <td>...</td>\n",
       "      <td>BILL_AMT4</td>\n",
       "      <td>BILL_AMT5</td>\n",
       "      <td>BILL_AMT6</td>\n",
       "      <td>PAY_AMT1</td>\n",
       "      <td>PAY_AMT2</td>\n",
       "      <td>PAY_AMT3</td>\n",
       "      <td>PAY_AMT4</td>\n",
       "      <td>PAY_AMT5</td>\n",
       "      <td>PAY_AMT6</td>\n",
       "      <td>default payment next month</td>\n",
       "    </tr>\n",
       "    <tr>\n",
       "      <th>1</th>\n",
       "      <td>1</td>\n",
       "      <td>20000</td>\n",
       "      <td>2</td>\n",
       "      <td>2</td>\n",
       "      <td>1</td>\n",
       "      <td>24</td>\n",
       "      <td>2</td>\n",
       "      <td>2</td>\n",
       "      <td>-1</td>\n",
       "      <td>-1</td>\n",
       "      <td>...</td>\n",
       "      <td>0</td>\n",
       "      <td>0</td>\n",
       "      <td>0</td>\n",
       "      <td>0</td>\n",
       "      <td>689</td>\n",
       "      <td>0</td>\n",
       "      <td>0</td>\n",
       "      <td>0</td>\n",
       "      <td>0</td>\n",
       "      <td>1</td>\n",
       "    </tr>\n",
       "    <tr>\n",
       "      <th>2</th>\n",
       "      <td>2</td>\n",
       "      <td>120000</td>\n",
       "      <td>2</td>\n",
       "      <td>2</td>\n",
       "      <td>2</td>\n",
       "      <td>26</td>\n",
       "      <td>-1</td>\n",
       "      <td>2</td>\n",
       "      <td>0</td>\n",
       "      <td>0</td>\n",
       "      <td>...</td>\n",
       "      <td>3272</td>\n",
       "      <td>3455</td>\n",
       "      <td>3261</td>\n",
       "      <td>0</td>\n",
       "      <td>1000</td>\n",
       "      <td>1000</td>\n",
       "      <td>1000</td>\n",
       "      <td>0</td>\n",
       "      <td>2000</td>\n",
       "      <td>1</td>\n",
       "    </tr>\n",
       "    <tr>\n",
       "      <th>3</th>\n",
       "      <td>3</td>\n",
       "      <td>90000</td>\n",
       "      <td>2</td>\n",
       "      <td>2</td>\n",
       "      <td>2</td>\n",
       "      <td>34</td>\n",
       "      <td>0</td>\n",
       "      <td>0</td>\n",
       "      <td>0</td>\n",
       "      <td>0</td>\n",
       "      <td>...</td>\n",
       "      <td>14331</td>\n",
       "      <td>14948</td>\n",
       "      <td>15549</td>\n",
       "      <td>1518</td>\n",
       "      <td>1500</td>\n",
       "      <td>1000</td>\n",
       "      <td>1000</td>\n",
       "      <td>1000</td>\n",
       "      <td>5000</td>\n",
       "      <td>0</td>\n",
       "    </tr>\n",
       "    <tr>\n",
       "      <th>4</th>\n",
       "      <td>4</td>\n",
       "      <td>50000</td>\n",
       "      <td>2</td>\n",
       "      <td>2</td>\n",
       "      <td>1</td>\n",
       "      <td>37</td>\n",
       "      <td>0</td>\n",
       "      <td>0</td>\n",
       "      <td>0</td>\n",
       "      <td>0</td>\n",
       "      <td>...</td>\n",
       "      <td>28314</td>\n",
       "      <td>28959</td>\n",
       "      <td>29547</td>\n",
       "      <td>2000</td>\n",
       "      <td>2019</td>\n",
       "      <td>1200</td>\n",
       "      <td>1100</td>\n",
       "      <td>1069</td>\n",
       "      <td>1000</td>\n",
       "      <td>0</td>\n",
       "    </tr>\n",
       "  </tbody>\n",
       "</table>\n",
       "<p>5 rows × 25 columns</p>\n",
       "</div>"
      ],
      "text/plain": [
       "  Unnamed: 0         X1   X2         X3        X4   X5     X6     X7     X8  \\\n",
       "0         ID  LIMIT_BAL  SEX  EDUCATION  MARRIAGE  AGE  PAY_0  PAY_2  PAY_3   \n",
       "1          1      20000    2          2         1   24      2      2     -1   \n",
       "2          2     120000    2          2         2   26     -1      2      0   \n",
       "3          3      90000    2          2         2   34      0      0      0   \n",
       "4          4      50000    2          2         1   37      0      0      0   \n",
       "\n",
       "      X9  ...        X15        X16        X17       X18       X19       X20  \\\n",
       "0  PAY_4  ...  BILL_AMT4  BILL_AMT5  BILL_AMT6  PAY_AMT1  PAY_AMT2  PAY_AMT3   \n",
       "1     -1  ...          0          0          0         0       689         0   \n",
       "2      0  ...       3272       3455       3261         0      1000      1000   \n",
       "3      0  ...      14331      14948      15549      1518      1500      1000   \n",
       "4      0  ...      28314      28959      29547      2000      2019      1200   \n",
       "\n",
       "        X21       X22       X23                           Y  \n",
       "0  PAY_AMT4  PAY_AMT5  PAY_AMT6  default payment next month  \n",
       "1         0         0         0                           1  \n",
       "2      1000         0      2000                           1  \n",
       "3      1000      1000      5000                           0  \n",
       "4      1100      1069      1000                           0  \n",
       "\n",
       "[5 rows x 25 columns]"
      ]
     },
     "execution_count": 4,
     "metadata": {},
     "output_type": "execute_result"
    }
   ],
   "source": [
    "import pandas as pd\n",
    "\n",
    "# get a handle of the data asset and print the URI\n",
    "data_asset = ml_client.data.get(name=\"credit-card\", version=v1)\n",
    "print(f\"Data asset URI: {data_asset.path}\")\n",
    "\n",
    "# read into pandas - note that you will see 2 headers in your data frame - that is ok, for now\n",
    "\n",
    "df = pd.read_csv(data_asset.path)\n",
    "df.head()"
   ]
  },
  {
   "cell_type": "markdown",
   "metadata": {
    "nteract": {
     "transient": {
      "deleting": false
     }
    }
   },
   "source": [
    "Read [Access data from Azure cloud storage during interactive development](how-to-access-data-interactive.md) to learn more about data access in a notebook.\n",
    "\n",
    "## Create a new version of the data asset\n",
    "\n",
    "You might have noticed that the data needs a little light cleaning, to make it fit to train a machine learning model. It has:\n",
    "\n",
    "* two headers\n",
    "* a client ID column; we wouldn't use this feature in Machine Learning\n",
    "* spaces in the response variable name\n",
    "\n",
    "Also, compared to the CSV format, the Parquet file format becomes a better way to store this data. Parquet offers compression, and it maintains schema. Therefore, to clean the data and store it in Parquet, use:"
   ]
  },
  {
   "cell_type": "code",
   "execution_count": 6,
   "metadata": {},
   "outputs": [
    {
     "name": "stdout",
     "output_type": "stream",
     "text": [
      "Collecting pyarrow\n",
      "  Downloading pyarrow-11.0.0-cp38-cp38-manylinux_2_17_x86_64.manylinux2014_x86_64.whl (35.0 MB)\n",
      "\u001b[K     |████████████████████████████████| 35.0 MB 24.4 MB/s eta 0:00:01\n",
      "\u001b[?25hRequirement already satisfied: numpy>=1.16.6 in /anaconda/envs/amldemo_310/lib/python3.8/site-packages (from pyarrow) (1.22.4)\n",
      "Installing collected packages: pyarrow\n",
      "Successfully installed pyarrow-11.0.0\n",
      "Note: you may need to restart the kernel to use updated packages.\n"
     ]
    }
   ],
   "source": [
    "%pip install pyarrow"
   ]
  },
  {
   "cell_type": "code",
   "execution_count": 7,
   "metadata": {
    "collapsed": false,
    "gather": {
     "logged": 1675445038545
    },
    "jupyter": {
     "outputs_hidden": false,
     "source_hidden": false
    },
    "nteract": {
     "transient": {
      "deleting": false
     }
    }
   },
   "outputs": [],
   "source": [
    "# read in data again, this time using the 2nd row as the header\n",
    "df = pd.read_csv(data_asset.path, header=1)\n",
    "# rename column\n",
    "df.rename(columns={\"default payment next month\": \"default\"}, inplace=True)\n",
    "# remove ID column\n",
    "df.drop(\"ID\", axis=1, inplace=True)\n",
    "\n",
    "# write file to filesystem\n",
    "df.to_parquet(\"./data/cleaned-credit-card.parquet\")"
   ]
  },
  {
   "cell_type": "markdown",
   "metadata": {
    "nteract": {
     "transient": {
      "deleting": false
     }
    }
   },
   "source": [
    "This table shows the structure of the data in the original **default_of_credit_card_clients.csv** file .CSV file downloaded in an earlier step. The uploaded data contains 23 explanatory variables and 1 response variable, as shown here:\n",
    "\n",
    "|Column Name(s) | Variable Type  |Description  |\n",
    "|---------|---------|---------|\n",
    "|X1     |   Explanatory      |    Amount of the given credit (NT dollar): it includes both the individual consumer credit and their family (supplementary) credit.    |\n",
    "|X2     |   Explanatory      |   Gender (1 = male; 2 = female).      |\n",
    "|X3     |   Explanatory      |   Education (1 = graduate school; 2 = university; 3 = high school; 4 = others).      |\n",
    "|X4     |   Explanatory      |    Marital status (1 = married; 2 = single; 3 = others).     |\n",
    "|X5     |   Explanatory      |    Age (years).     |\n",
    "|X6-X11     | Explanatory        |  History of past payment. We tracked the past monthly payment records (from April to September  2005). -1 = pay duly; 1 = payment delay for one month; 2 = payment delay for two months; . . .; 8 = payment delay for eight months; 9 = payment delay for nine months and above.      |\n",
    "|X12-17     | Explanatory        |  Amount of bill statement (NT dollar) from April to September  2005.      |\n",
    "|X18-23     | Explanatory        |  Amount of previous payment (NT dollar) from April to September  2005.      |\n",
    "|Y     | Response        |    Default payment (Yes = 1, No = 0)     |\n",
    "\n",
    "Next, create a new _version_ of the data asset (the data automatically uploads to cloud storage):\n",
    "\n",
    "> [!NOTE]\n",
    ">\n",
    "> This Python code cell sets **name** and **version** values for the data asset it creates. As a result, the code in this cell will fail if executed more than once, without a change to these values. Fixed **name** and **version** values offer a way to pass values that work for specific situations, without concern for auto-generated or randomly-generated values.\n"
   ]
  },
  {
   "cell_type": "code",
   "execution_count": 8,
   "metadata": {
    "collapsed": false,
    "gather": {
     "logged": 1675382989789
    },
    "jupyter": {
     "outputs_hidden": false,
     "source_hidden": false
    },
    "nteract": {
     "transient": {
      "deleting": false
     }
    }
   },
   "outputs": [
    {
     "name": "stdout",
     "output_type": "stream",
     "text": [
      "2023.04.24.161942_cleaned\n"
     ]
    },
    {
     "name": "stderr",
     "output_type": "stream",
     "text": [
      "\u001b[32mUploading cleaned-credit-card.parquet\u001b[32m (< 1 MB): 100%|██████████| 1.58M/1.58M [00:00<00:00, 21.0MB/s]\n",
      "\u001b[39m\n",
      "\n"
     ]
    },
    {
     "name": "stdout",
     "output_type": "stream",
     "text": [
      "Data asset created. Name: credit-card, version: 2023.04.24.161942_cleaned\n"
     ]
    }
   ],
   "source": [
    "from azure.ai.ml.entities import Data\n",
    "from azure.ai.ml.constants import AssetTypes\n",
    "import time\n",
    "\n",
    "# Next, create a new *version* of the data asset (the data is automatically uploaded to cloud storage):\n",
    "v2 = v1 + \"_cleaned\"\n",
    "my_path = \"./data/cleaned-credit-card.parquet\"\n",
    "print(v2)\n",
    "# Define the data asset, and use tags to make it clear the asset can be used in training\n",
    "\n",
    "my_data = Data(\n",
    "    name=\"credit-card\",\n",
    "    version=v2,\n",
    "    description=\"Default of credit card clients data.\",\n",
    "    tags={\"training_data\": \"true\", \"format\": \"parquet\"},\n",
    "    path=my_path,\n",
    "    type=AssetTypes.URI_FILE,\n",
    ")\n",
    "\n",
    "## create the data asset\n",
    "\n",
    "my_data = ml_client.data.create_or_update(my_data)\n",
    "\n",
    "print(f\"Data asset created. Name: {my_data.name}, version: {my_data.version}\")"
   ]
  },
  {
   "cell_type": "markdown",
   "metadata": {
    "nteract": {
     "transient": {
      "deleting": false
     }
    }
   },
   "source": [
    "The cleaned parquet file is the latest version data source. This code shows the CSV version result set first, then the Parquet version:"
   ]
  },
  {
   "cell_type": "code",
   "execution_count": 9,
   "metadata": {
    "collapsed": false,
    "gather": {
     "logged": 1675383001940
    },
    "jupyter": {
     "outputs_hidden": false,
     "source_hidden": false
    },
    "nteract": {
     "transient": {
      "deleting": false
     }
    }
   },
   "outputs": [
    {
     "name": "stdout",
     "output_type": "stream",
     "text": [
      "V1 Data asset URI: azureml://subscriptions/f1ea6ed8-82f3-416d-881b-8b376218bc85/resourcegroups/rg_aml/workspaces/aml-default/datastores/workspaceblobstore/paths/LocalUpload/4b1dfc4d12429b46389cabdf25b886a2/default_of_credit_card_clients.csv\n",
      "  Unnamed: 0         X1   X2         X3        X4   X5     X6     X7     X8  \\\n",
      "0         ID  LIMIT_BAL  SEX  EDUCATION  MARRIAGE  AGE  PAY_0  PAY_2  PAY_3   \n",
      "1          1      20000    2          2         1   24      2      2     -1   \n",
      "2          2     120000    2          2         2   26     -1      2      0   \n",
      "3          3      90000    2          2         2   34      0      0      0   \n",
      "4          4      50000    2          2         1   37      0      0      0   \n",
      "\n",
      "      X9  ...        X15        X16        X17       X18       X19       X20  \\\n",
      "0  PAY_4  ...  BILL_AMT4  BILL_AMT5  BILL_AMT6  PAY_AMT1  PAY_AMT2  PAY_AMT3   \n",
      "1     -1  ...          0          0          0         0       689         0   \n",
      "2      0  ...       3272       3455       3261         0      1000      1000   \n",
      "3      0  ...      14331      14948      15549      1518      1500      1000   \n",
      "4      0  ...      28314      28959      29547      2000      2019      1200   \n",
      "\n",
      "        X21       X22       X23                           Y  \n",
      "0  PAY_AMT4  PAY_AMT5  PAY_AMT6  default payment next month  \n",
      "1         0         0         0                           1  \n",
      "2      1000         0      2000                           1  \n",
      "3      1000      1000      5000                           0  \n",
      "4      1100      1069      1000                           0  \n",
      "\n",
      "[5 rows x 25 columns]\n",
      "_____________________________________________________________________________________________________________\n",
      "\n",
      "V2 Data asset URI: azureml://subscriptions/f1ea6ed8-82f3-416d-881b-8b376218bc85/resourcegroups/rg_aml/workspaces/aml-default/datastores/workspaceblobstore/paths/LocalUpload/7e8c346bf73ef51515780987704f8e3c/cleaned-credit-card.parquet\n",
      "   LIMIT_BAL  SEX  EDUCATION  MARRIAGE  AGE  PAY_0  PAY_2  PAY_3  PAY_4  \\\n",
      "0      20000    2          2         1   24      2      2     -1     -1   \n",
      "1     120000    2          2         2   26     -1      2      0      0   \n",
      "2      90000    2          2         2   34      0      0      0      0   \n",
      "3      50000    2          2         1   37      0      0      0      0   \n",
      "4      50000    1          2         1   57     -1      0     -1      0   \n",
      "\n",
      "   PAY_5  ...  BILL_AMT4  BILL_AMT5  BILL_AMT6  PAY_AMT1  PAY_AMT2  PAY_AMT3  \\\n",
      "0     -2  ...          0          0          0         0       689         0   \n",
      "1      0  ...       3272       3455       3261         0      1000      1000   \n",
      "2      0  ...      14331      14948      15549      1518      1500      1000   \n",
      "3      0  ...      28314      28959      29547      2000      2019      1200   \n",
      "4      0  ...      20940      19146      19131      2000     36681     10000   \n",
      "\n",
      "   PAY_AMT4  PAY_AMT5  PAY_AMT6  default  \n",
      "0         0         0         0        1  \n",
      "1      1000         0      2000        1  \n",
      "2      1000      1000      5000        0  \n",
      "3      1100      1069      1000        0  \n",
      "4      9000       689       679        0  \n",
      "\n",
      "[5 rows x 24 columns]\n"
     ]
    }
   ],
   "source": [
    "import pandas as pd\n",
    "\n",
    "# get a handle of the data asset and print the URI\n",
    "data_asset_v1 = ml_client.data.get(name=\"credit-card\", version=v1)\n",
    "data_asset_v2 = ml_client.data.get(name=\"credit-card\", version=v2)\n",
    "\n",
    "# print the v1 data\n",
    "print(f\"V1 Data asset URI: {data_asset_v1.path}\")\n",
    "v1df = pd.read_csv(data_asset_v1.path)\n",
    "print(v1df.head(5))\n",
    "\n"
   ]
  },
  {
   "cell_type": "code",
   "execution_count": 10,
   "metadata": {},
   "outputs": [
    {
     "name": "stdout",
     "output_type": "stream",
     "text": [
      "_____________________________________________________________________________________________________________\n",
      "\n",
      "V2 Data asset URI: azureml://subscriptions/f1ea6ed8-82f3-416d-881b-8b376218bc85/resourcegroups/rg_aml/workspaces/aml-default/datastores/workspaceblobstore/paths/LocalUpload/7e8c346bf73ef51515780987704f8e3c/cleaned-credit-card.parquet\n",
      "   LIMIT_BAL  SEX  EDUCATION  MARRIAGE  AGE  PAY_0  PAY_2  PAY_3  PAY_4  \\\n",
      "0      20000    2          2         1   24      2      2     -1     -1   \n",
      "1     120000    2          2         2   26     -1      2      0      0   \n",
      "2      90000    2          2         2   34      0      0      0      0   \n",
      "3      50000    2          2         1   37      0      0      0      0   \n",
      "4      50000    1          2         1   57     -1      0     -1      0   \n",
      "\n",
      "   PAY_5  ...  BILL_AMT4  BILL_AMT5  BILL_AMT6  PAY_AMT1  PAY_AMT2  PAY_AMT3  \\\n",
      "0     -2  ...          0          0          0         0       689         0   \n",
      "1      0  ...       3272       3455       3261         0      1000      1000   \n",
      "2      0  ...      14331      14948      15549      1518      1500      1000   \n",
      "3      0  ...      28314      28959      29547      2000      2019      1200   \n",
      "4      0  ...      20940      19146      19131      2000     36681     10000   \n",
      "\n",
      "   PAY_AMT4  PAY_AMT5  PAY_AMT6  default  \n",
      "0         0         0         0        1  \n",
      "1      1000         0      2000        1  \n",
      "2      1000      1000      5000        0  \n",
      "3      1100      1069      1000        0  \n",
      "4      9000       689       679        0  \n",
      "\n",
      "[5 rows x 24 columns]\n"
     ]
    }
   ],
   "source": [
    "# print the v2 data\n",
    "print(\n",
    "    \"_____________________________________________________________________________________________________________\\n\"\n",
    ")\n",
    "print(f\"V2 Data asset URI: {data_asset_v2.path}\")\n",
    "v2df = pd.read_parquet(data_asset_v2.path)\n",
    "print(v2df.head(5))"
   ]
  },
  {
   "cell_type": "markdown",
   "metadata": {
    "nteract": {
     "transient": {
      "deleting": false
     }
    }
   },
   "source": [
    "## Next steps\n",
    "\n",
    "Read [Create data assets](https://learn.microsoft.com/azure/machine-learning/how-to-create-data-assets) for more information about data assets.\n",
    "\n",
    "Read [Create datastores](https://learn.microsoft.com/azure/machine-learning/how-to-datastore) to learn more about datastores.\n",
    "\n",
    "Continue with tutorials to learn how to develop a training script.\n",
    "\n",
    "> [Model development on a cloud workstation](https://learn.microsoft.com/azure/machine-learning/tutorial-cloud-workstation)"
   ]
  }
 ],
 "metadata": {
  "categories": [
   "SDK v2",
   "tutorials",
   "get-started-notebooks"
  ],
  "description": {
   "description": "Upload data to cloud storage, create a data asset, create new versions for data assets, use the data for interactive development."
  },
  "kernel_info": {
   "name": "python310-sdkv2"
  },
  "kernelspec": {
   "display_name": "amldemo_310",
   "language": "python",
   "name": "amldemo_310"
  },
  "language_info": {
   "codemirror_mode": {
    "name": "ipython",
    "version": 3
   },
   "file_extension": ".py",
   "mimetype": "text/x-python",
   "name": "python",
   "nbconvert_exporter": "python",
   "pygments_lexer": "ipython3",
   "version": "3.8.16"
  },
  "microsoft": {
   "host": {
    "AzureML": {
     "notebookHasBeenCompleted": true
    }
   }
  },
  "nteract": {
   "version": "nteract-front-end@1.0.0"
  }
 },
 "nbformat": 4,
 "nbformat_minor": 4
}
